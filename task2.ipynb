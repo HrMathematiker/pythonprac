{
 "cells": [
  {
   "cell_type": "markdown",
   "metadata": {},
   "source": [
    "# 1"
   ]
  },
  {
   "cell_type": "code",
   "execution_count": 6,
   "metadata": {},
   "outputs": [
    {
     "name": "stdout",
     "output_type": "stream",
     "text": [
      "(0.2, 0.3, 0.5)\n",
      "-2187.66013719814\n"
     ]
    }
   ],
   "source": [
    "import itertools\n",
    "from math import log\n",
    "\n",
    "theta = list(itertools.permutations([0.2, 0.5, 0.3]))\n",
    "L = list()\n",
    "for t in theta:\n",
    "    r = t[0]\n",
    "    g = t[1]\n",
    "    b = t[2]\n",
    "    L.append(267*log(b*b)+73*log(g*g)+29*log(r*r)+140*log(g*b)+193*log(r*b)+298*log(r*g))\n",
    "print(theta[L.index(max(L))])\n",
    "print(max(L))\n",
    "    "
   ]
  },
  {
   "cell_type": "markdown",
   "metadata": {},
   "source": [
    "# 2"
   ]
  },
  {
   "cell_type": "code",
   "execution_count": 5,
   "metadata": {},
   "outputs": [],
   "source": [
    "import random\n",
    "from math import sqrt\n",
    "import seaborn as sb\n",
    "\n",
    "def gen(theta, n):\n",
    "    l = list()\n",
    "    for i in range(n):\n",
    "        l.append(random.uniform(-theta, theta))\n",
    "    return l\n",
    "\n",
    "def OMP(l):\n",
    "    return max(-min(l), max(l))\n",
    "\n",
    "def OMS(l):\n",
    "    l.sort()\n",
    "    n = len(l)\n",
    "    d = sqrt(n**2*(l[-1]-l[0])**2-4*(1-n)*(n+1)*l[0]*l[-1])\n",
    "    return (n*(l[-1]-l[0])+d)/(2*(n-1))"
   ]
  },
  {
   "cell_type": "code",
   "execution_count": 7,
   "metadata": {},
   "outputs": [
    {
     "name": "stdout",
     "output_type": "stream",
     "text": [
      "0.9999447649485895\n",
      "1.0001154064171727\n"
     ]
    },
    {
     "name": "stderr",
     "output_type": "stream",
     "text": [
      "/usr/lib/python3.7/site-packages/scipy/stats/stats.py:1713: FutureWarning: Using a non-tuple sequence for multidimensional indexing is deprecated; use `arr[tuple(seq)]` instead of `arr[seq]`. In the future this will be interpreted as an array index, `arr[np.array(seq)]`, which will result either in an error or a different result.\n",
      "  return np.add.reduce(sorted[indexer] * weights, axis=axis) / sumval\n"
     ]
    },
    {
     "data": {
      "text/plain": [
       "<matplotlib.axes._subplots.AxesSubplot at 0x7fe0dab72690>"
      ]
     },
     "execution_count": 7,
     "metadata": {},
     "output_type": "execute_result"
    },
    {
     "data": {
      "image/png": "[encoded data removed]",
      "text/plain": [
       "<Figure size 432x288 with 1 Axes>"
      ]
     },
     "metadata": {},
     "output_type": "display_data"
    }
   ],
   "source": [
    "th = 1\n",
    "n = 10000\n",
    "\n",
    "l = gen(th,n)\n",
    "\n",
    "print(OMP(l))\n",
    "print(OMS(l))\n",
    "\n",
    "omps = list()\n",
    "omss = list()\n",
    "\n",
    "for i in range(1000):\n",
    "    l = gen(th,n)\n",
    "    omps.append(OMP(l))\n",
    "    omss.append(OMS(l))\n",
    "    \n",
    "sb.distplot(omps)\n",
    "sb.distplot(omss)"
   ]
  },
  {
   "cell_type": "markdown",
   "metadata": {},
   "source": [
    "Оценки не являются асимптотически нормальными"
   ]
  },
  {
   "cell_type": "markdown",
   "metadata": {},
   "source": [
    "# 3"
   ]
  },
  {
   "cell_type": "code",
   "execution_count": 15,
   "metadata": {},
   "outputs": [
    {
     "name": "stderr",
     "output_type": "stream",
     "text": [
      "/usr/lib/python3.7/site-packages/scipy/optimize/_minimize.py:518: RuntimeWarning: Method Nelder-Mead cannot handle constraints nor bounds.\n",
      "  RuntimeWarning)\n",
      "/usr/lib/python3.7/site-packages/scipy/stats/stats.py:1713: FutureWarning: Using a non-tuple sequence for multidimensional indexing is deprecated; use `arr[tuple(seq)]` instead of `arr[seq]`. In the future this will be interpreted as an array index, `arr[np.array(seq)]`, which will result either in an error or a different result.\n",
      "  return np.add.reduce(sorted[indexer] * weights, axis=axis) / sumval\n"
     ]
    },
    {
     "data": {
      "text/plain": [
       "<matplotlib.axes._subplots.AxesSubplot at 0x7f8edd9a6250>"
      ]
     },
     "execution_count": 15,
     "metadata": {},
     "output_type": "execute_result"
    },
    {
     "data": {
      "image/png": "[encoded data removed]",
      "text/plain": [
       "<Figure size 432x288 with 1 Axes>"
      ]
     },
     "metadata": {},
     "output_type": "display_data"
    }
   ],
   "source": [
    "from scipy.optimize import minimize\n",
    "from scipy import special, stats\n",
    "import numpy as np\n",
    "from math import log\n",
    "import seaborn as sb\n",
    "\n",
    "def L(ab,l):\n",
    "    a = ab[0]\n",
    "    b = ab[1]\n",
    "    res = 1\n",
    "    for x in l:\n",
    "        res += -log(special.beta(a,b))+log(x)*(a-1)+log(1-x)*(b-1)\n",
    "    return -res\n",
    "\n",
    "def OMP(X):\n",
    "    x0 = np.array([2,3])\n",
    "    theta = minimize(L, x0, args=(X,),bounds = [(0, None),(0, None)], method='Nelder-Mead')\n",
    "    return theta\n",
    "\n",
    "\n",
    "n = 5000\n",
    "a = 10\n",
    "b = 50\n",
    "aa = list()\n",
    "bb = list()\n",
    "\n",
    "for i in range(1000):\n",
    "    X = list(stats.beta.rvs(a, b, size=n))\n",
    "    th = OMP(X).x\n",
    "    aa.append(th[0])\n",
    "    bb.append(th[1])\n",
    "    \n",
    "sb.distplot(aa)\n",
    "sb.distplot(bb)"
   ]
  },
  {
   "cell_type": "markdown",
   "metadata": {},
   "source": [
    "Оценки асимптотически нормальны"
   ]
  },
  {
   "cell_type": "code",
   "execution_count": null,
   "metadata": {},
   "outputs": [],
   "source": []
  }
 ],
 "metadata": {
  "kernelspec": {
   "display_name": "Python 3",
   "language": "python3",
   "name": "python3"
  },
  "language_info": {
   "codemirror_mode": {
    "name": "ipython",
    "version": 3
   },
   "file_extension": ".py",
   "mimetype": "text/x-python",
   "name": "python",
   "nbconvert_exporter": "python",
   "pygments_lexer": "ipython3",
   "version": "3.7.6"
  }
 },
 "nbformat": 4,
 "nbformat_minor": 2
}
